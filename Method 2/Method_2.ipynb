{
  "nbformat": 4,
  "nbformat_minor": 0,
  "metadata": {
    "accelerator": "GPU",
    "colab": {
      "name": "Method 2.ipynb",
      "provenance": [],
      "collapsed_sections": [],
      "include_colab_link": true
    },
    "kernelspec": {
      "display_name": "Python 3",
      "name": "python3"
    },
    "language_info": {
      "name": "python"
    }
  },
  "cells": [
    {
      "cell_type": "markdown",
      "metadata": {
        "id": "view-in-github",
        "colab_type": "text"
      },
      "source": [
        "<a href=\"https://colab.research.google.com/github/PhamMinhTien05102001/Shopee-Code-League-2020-Data-Science/blob/main/Method_2.ipynb\" target=\"_parent\"><img src=\"https://colab.research.google.com/assets/colab-badge.svg\" alt=\"Open In Colab\"/></a>"
      ]
    },
    {
      "cell_type": "code",
      "metadata": {
        "id": "CPE6RtFlQkm-"
      },
      "source": [
        "from google.colab import drive\n",
        "drive.mount('/content/drive')"
      ],
      "execution_count": null,
      "outputs": []
    },
    {
      "cell_type": "code",
      "metadata": {
        "id": "vi3bhQDDQqT1"
      },
      "source": [
        "import random\n",
        "import os\n",
        "import math\n",
        "import sklearn\n",
        "import cv2\n",
        "from PIL import Image\n",
        "from matplotlib import pyplot as plt\n",
        "import numpy as np\n",
        "import pandas as pd\n",
        "import matplotlib\n",
        "import tensorflow as tf\n",
        "import itertools\n",
        "from tensorflow.python.keras.layers import Dense, Dropout, Flatten, GlobalAvgPool2D, Conv2D, MaxPool2D\n",
        "from tensorflow.python.keras.callbacks import ModelCheckpoint, EarlyStopping, LearningRateScheduler\n",
        "from tensorflow.python.keras.models import Model, Sequential\n",
        "from sklearn.model_selection import train_test_split\n",
        "from tensorflow.python.keras.applications.vgg16 import VGG16"
      ],
      "execution_count": null,
      "outputs": []
    },
    {
      "cell_type": "code",
      "metadata": {
        "id": "dwEkdmR0QsQ0"
      },
      "source": [
        "AUTO = tf.data.experimental.AUTOTUNE\n",
        "BATCH_SIZE = 64\n",
        "IMAGE_SIZE = (512, 512)\n",
        "path_model = \"model\""
      ],
      "execution_count": null,
      "outputs": []
    },
    {
      "cell_type": "markdown",
      "metadata": {
        "id": "Gkx3ngSU_ksR"
      },
      "source": [
        "**LOAD DỮ LIỆU SỬ DỤNG FILE TFRECORDS**"
      ]
    },
    {
      "cell_type": "code",
      "metadata": {
        "id": "Ow4Vpn57Qsu8"
      },
      "source": [
        "GCS_TRAIN_PATHS = [\n",
        "    '/content/drive/MyDrive/project/tfrecords',\n",
        "    '/content/drive/MyDrive/project/tfrecords2'\n",
        "]\n",
        "\n",
        "TRAINING_FILENAMES = []\n",
        "for i in GCS_TRAIN_PATHS:\n",
        "    print(i)\n",
        "    TRAINING_FILENAMES.append(tf.io.gfile.glob(i + '/*.tfrecords'))  \n",
        "TRAINING_FILENAMES = list(itertools.chain.from_iterable(TRAINING_FILENAMES))\n",
        "print(len(TRAINING_FILENAMES))"
      ],
      "execution_count": null,
      "outputs": []
    },
    {
      "cell_type": "markdown",
      "metadata": {
        "id": "93lcyP3P_n-Z"
      },
      "source": [
        "**ĐỌC DỮ LIỆU TỪ FILE TFRECORDS TRẢ VỀ ẢNH VÀ LABEL TƯƠNG ỨNG**\n",
        "\n",
        "\n",
        "> decode_image : Đọc dữ liệu từ image_data(kiểu string) sau đó trả về ma trận ảnh với kích thước (128, 128, 3)\n",
        "\n",
        "> read_label_tfrecord : Đọc dữ liệu từ file và trả về (image, label), mỗi lần ta chỉ train trên 21 label"
      ]
    },
    {
      "cell_type": "code",
      "metadata": {
        "id": "Du53IS09QuVE"
      },
      "source": [
        "def decode_image(image_data):\n",
        "    img = tf.image.decode_jpeg(image_data, channels=3)\n",
        "    img = tf.cast(img, tf.float32) / 255.0\n",
        "    img = tf.reshape(img, [*IMAGE_SIZE, 3])\n",
        "    print(type(img))\n",
        "    img = tf.image.resize(img, (128,128))\n",
        "    return img\n",
        "\n",
        "def read_label_tfrecord(example):\n",
        "    FORMAT = {\n",
        "        \"image\" : tf.io.FixedLenFeature([], tf.string),\n",
        "        \"label\" : tf.io.FixedLenFeature([], tf.int64)\n",
        "    }\n",
        "    example = tf.io.parse_single_example(example, FORMAT)\n",
        "    image = decode_image(example['image'])\n",
        "    label = tf.cast(example['label'], tf.int32)        # Model 1 : From \"00\" to \"20\"\n",
        "    # label = tf.cast(example['label'], tf.int32) - 21 # Model 2 :From \"21\" to \"41\" transform to \"00\" -> \"20\"\n",
        "    return (image, label)\n",
        "\n",
        "def load_dataset(filenames):\n",
        "    Order = tf.data.Options()\n",
        "    Order.experimental_deterministic = True\n",
        "    dataset = tf.data.TFRecordDataset(filenames, num_parallel_reads=AUTO)\n",
        "    print(AUTO)\n",
        "    dataset = dataset.with_options(Order)\n",
        "\n",
        "    def choice_label(image, label):\n",
        "      return label < 21    #Model 1 : From \"00\" to \"20\"\n",
        "      # return label >= 0  #Model 2 : From \"21\" to \"41\" transform to \"00\" -> \"20\"\n",
        "\n",
        "    dataset = dataset.map(read_label_tfrecord).filter(choice_label)\n",
        "    return dataset"
      ],
      "execution_count": null,
      "outputs": []
    },
    {
      "cell_type": "code",
      "metadata": {
        "id": "qe4FdLaPQwas"
      },
      "source": [
        "vanilla_training_ds = load_dataset(TRAINING_FILENAMES)\n",
        "print(vanilla_training_ds)"
      ],
      "execution_count": null,
      "outputs": []
    },
    {
      "cell_type": "code",
      "metadata": {
        "id": "Q1BhUUa0Q4rk"
      },
      "source": [
        "def print_target_counts(y):\n",
        "    _, y_counts = np.unique(y, return_counts=True)\n",
        "    y_total = len(y)\n",
        "    print(\"Total\", y_total)\n",
        "    k = 0\n",
        "    number_in_label = []\n",
        "    for i in range(max(y)+1):\n",
        "        print(k, \" : \", y_counts[i])\n",
        "        k += 1\n"
      ],
      "execution_count": null,
      "outputs": []
    },
    {
      "cell_type": "code",
      "metadata": {
        "id": "MtsCLIoEQ6ik"
      },
      "source": [
        "y_targets = np.array([target.numpy() for _, target in iter(vanilla_training_ds)]) "
      ],
      "execution_count": null,
      "outputs": []
    },
    {
      "cell_type": "markdown",
      "metadata": {
        "id": "DdAiIWB3_0JZ"
      },
      "source": [
        "**SỐ LƯỢNG ẢNH TRONG TỪNG LABE**"
      ]
    },
    {
      "cell_type": "code",
      "metadata": {
        "id": "bwHWXaCQQ8Yk",
        "colab": {
          "base_uri": "https://localhost:8080/"
        },
        "outputId": "269e446f-a493-4c0a-83e7-6fed4ec8e05c"
      },
      "source": [
        "x_indicies = np.arange(len(y_targets))\n",
        "print_target_counts(y_targets)"
      ],
      "execution_count": null,
      "outputs": [
        {
          "output_type": "stream",
          "text": [
            "Total 53729\n",
            "0  :  2683\n",
            "1  :  2706\n",
            "2  :  2691\n",
            "3  :  2704\n",
            "4  :  2705\n",
            "5  :  2645\n",
            "6  :  2646\n",
            "7  :  2660\n",
            "8  :  2704\n",
            "9  :  2700\n",
            "10  :  2675\n",
            "11  :  1848\n",
            "12  :  2694\n",
            "13  :  2686\n",
            "14  :  2686\n",
            "15  :  2633\n",
            "16  :  2665\n",
            "17  :  1555\n",
            "18  :  2106\n",
            "19  :  2681\n",
            "20  :  2656\n"
          ],
          "name": "stdout"
        }
      ]
    },
    {
      "cell_type": "markdown",
      "metadata": {
        "id": "3pqVHh7s_7lT"
      },
      "source": [
        "**CHIA DATA THÀNH 2 TẬP TRAIN VÀ VALIDATION THEO TỈ LỆ 4:1**"
      ]
    },
    {
      "cell_type": "code",
      "metadata": {
        "id": "8luAAExmQ-KM",
        "colab": {
          "base_uri": "https://localhost:8080/"
        },
        "outputId": "3ffccaac-bca0-4dc2-d040-022dbf691bfd"
      },
      "source": [
        "x_train_indices, x_val_indicies, y_train_targets, y_val_targets = train_test_split(x_indicies, y_targets, \n",
        "                                                                                   test_size=0.2, random_state=100)\n",
        "print_target_counts(y_train_targets)\n",
        "print_target_counts(y_val_targets)"
      ],
      "execution_count": null,
      "outputs": [
        {
          "output_type": "stream",
          "text": [
            "Total 42983\n",
            "0  :  2126\n",
            "1  :  2165\n",
            "2  :  2146\n",
            "3  :  2137\n",
            "4  :  2176\n",
            "5  :  2114\n",
            "6  :  2107\n",
            "7  :  2154\n",
            "8  :  2191\n",
            "9  :  2166\n",
            "10  :  2154\n",
            "11  :  1515\n",
            "12  :  2107\n",
            "13  :  2100\n",
            "14  :  2130\n",
            "15  :  2108\n",
            "16  :  2134\n",
            "17  :  1275\n",
            "18  :  1675\n",
            "19  :  2158\n",
            "20  :  2145\n",
            "Total 10746\n",
            "0  :  557\n",
            "1  :  541\n",
            "2  :  545\n",
            "3  :  567\n",
            "4  :  529\n",
            "5  :  531\n",
            "6  :  539\n",
            "7  :  506\n",
            "8  :  513\n",
            "9  :  534\n",
            "10  :  521\n",
            "11  :  333\n",
            "12  :  587\n",
            "13  :  586\n",
            "14  :  556\n",
            "15  :  525\n",
            "16  :  531\n",
            "17  :  280\n",
            "18  :  431\n",
            "19  :  523\n",
            "20  :  511\n"
          ],
          "name": "stdout"
        }
      ]
    },
    {
      "cell_type": "code",
      "metadata": {
        "id": "hFMj-O72RC1k"
      },
      "source": [
        "def get_selected_dataset(ds, X_indices_np):\n",
        "    X_indices_ts = tf.constant(X_indices_np, dtype=tf.int64)\n",
        "    def is_index_in(index, rest):\n",
        "        return tf.math.reduce_any(index == X_indices_ts)\n",
        "    def drop_index(index, rest):\n",
        "        return rest\n",
        "    selected_ds = ds.enumerate().filter(is_index_in).map(drop_index)\n",
        "    return selected_ds"
      ],
      "execution_count": null,
      "outputs": []
    },
    {
      "cell_type": "code",
      "metadata": {
        "id": "xIJMHh0VRDlc"
      },
      "source": [
        "splitted_train_ds = get_selected_dataset(vanilla_training_ds,\n",
        "                                        x_train_indices)\n",
        "sliptted_val_ds = get_selected_dataset(vanilla_training_ds,\n",
        "                                      x_val_indicies)"
      ],
      "execution_count": null,
      "outputs": []
    },
    {
      "cell_type": "code",
      "metadata": {
        "id": "znu2ZR9URDzl"
      },
      "source": [
        "def get_training_dataset():\n",
        "    dataset = splitted_train_ds\n",
        "    dataset = dataset.repeat()\n",
        "    dataset = dataset.shuffle(1500)\n",
        "    dataset = dataset.batch(BATCH_SIZE)\n",
        "    dataset = dataset.prefetch(AUTO)\n",
        "    return dataset\n",
        "def get_validation_dataset():\n",
        "    dataset = sliptted_val_ds\n",
        "    dataset = dataset.batch(BATCH_SIZE)\n",
        "    dataset = dataset.cache()\n",
        "    dataset = dataset.prefetch(AUTO)\n",
        "    return dataset"
      ],
      "execution_count": null,
      "outputs": []
    },
    {
      "cell_type": "markdown",
      "metadata": {
        "id": "7bqGDi8TAJcQ"
      },
      "source": [
        "**TẠO MODEL SỬ DỤNG TRANSFER LEARNING VGG16**\n",
        "\n",
        "> Lấy lại trọng số đã train qua tập dữ liệu imagenet, sau đó cho train tiếp tục từ tập trọng số này\n",
        "\n",
        "> Thay đổi lớp FC cho phù hợp với lượng dữ liệu\n",
        "\n",
        "> Model có 15,832,149 tham số\n",
        "\n"
      ]
    },
    {
      "cell_type": "code",
      "metadata": {
        "id": "39t8BXRzRD9c",
        "colab": {
          "base_uri": "https://localhost:8080/"
        },
        "outputId": "d9882bbc-4c1d-4dd9-9bd2-a61120a05867"
      },
      "source": [
        "NUM_TRAINING_IMAGES = len(y_train_targets)\n",
        "NUM_VALIDATION_IMAGES = len(y_val_targets)\n",
        "STEPS_PER_EPOCH = NUM_TRAINING_IMAGES // BATCH_SIZE\n",
        "print('Dataset: {} training images, {} validation images'.format(\n",
        "    NUM_TRAINING_IMAGES, NUM_VALIDATION_IMAGES))\n",
        "print(\"step_per_epoch\", STEPS_PER_EPOCH)"
      ],
      "execution_count": null,
      "outputs": [
        {
          "output_type": "stream",
          "text": [
            "Dataset: 42983 training images, 10746 validation images\n",
            "step_per_epoch 671\n"
          ],
          "name": "stdout"
        }
      ]
    },
    {
      "cell_type": "code",
      "metadata": {
        "id": "4tsAbpk9REgk"
      },
      "source": [
        "def get_model_vgg():\n",
        "    vgg16 = VGG16(weights='imagenet', include_top=False, input_shape=(128, 128, 3))\n",
        "    for layer in vgg16.layers:\n",
        "        layer.trainable = True\n",
        "\n",
        "    model = vgg16.output\n",
        "    model = MaxPool2D(pool_size=(2, 2), strides=(2, 2))(model)\n",
        "    model = Flatten()(model)\n",
        "    model = Dropout(0.5)(model)\n",
        "    model = Dense(512, activation='relu')(model)\n",
        "    model = Dropout(0.2)(model)\n",
        "    model = Dense(128, activation='relu')(model)\n",
        "    model = Dense(21, activation='softmax')(model)\n",
        "    \n",
        "    my_model_vgg16 = Model(inputs=vgg16.input, outputs=model)\n",
        "    my_model_vgg16.compile(optimizer=\"adam\", loss='sparse_categorical_crossentropy', metrics=['accuracy'])\n",
        "\n",
        "    return my_model_vgg16"
      ],
      "execution_count": null,
      "outputs": []
    },
    {
      "cell_type": "markdown",
      "metadata": {
        "id": "wCmxDeI-Csj3"
      },
      "source": [
        "**ĐỒ THỊ ACCURACY, LOSS TRÊN CẢ 2 TẬP TRAIN VÀ VALIDATION**"
      ]
    },
    {
      "cell_type": "code",
      "metadata": {
        "id": "kea96X6IRMer"
      },
      "source": [
        "def plot_model_history(model_history, start=10, validation_freq=2, acc='accuracy', val_acc='val_accuracy'):\n",
        "    fig, axs = plt.subplots(1, 2, figsize=(15, 5))\n",
        "    axs[0].set_title(\"Model Accuracy\")\n",
        "    axs[0].set_ylabel('Accuracy')\n",
        "    axs[0].set_xlabel('Epoch')\n",
        "    axs[1].set_title(\"Model Loss\")\n",
        "    axs[1].set_ylabel('Loss')\n",
        "    axs[1].set_xlabel('Epoch')\n",
        "\n",
        "\n",
        "    axs[0].plot(range(start, len(model_history.history[acc]) + 1), model_history.history[acc][(start-1):], 'o-')\n",
        "    axs[1].plot(range(start, len(model_history.history['loss']) + 1), model_history.history['loss'][(start-1):], 'o-')\n",
        "\n",
        "    i = 1\n",
        "    val_acc_points = []\n",
        "    epoch = []\n",
        "    for val_accuracy in model_history.history[val_acc]:\n",
        "      val_acc_points.append(val_accuracy)\n",
        "      epoch.append(i * validation_freq)\n",
        "      i += 1\n",
        "    axs[0].plot(epoch, val_acc_points, 'o-')\n",
        "\n",
        "    val_loss_points = []\n",
        "    for val_loss in model_history.history['val_loss']:\n",
        "      val_loss_points.append(val_loss)\n",
        "    axs[1].plot(epoch, val_loss_points, 'o-')\n",
        "\n",
        "    axs[0].legend(['train', 'val'])\n",
        "    axs[1].legend(['train', 'val'])\n",
        "    plt.plot()"
      ],
      "execution_count": null,
      "outputs": []
    },
    {
      "cell_type": "markdown",
      "metadata": {
        "id": "NTrehUdQCxFH"
      },
      "source": [
        "**ĐỒ THỊ LEARNING_RATE THAY ĐỔI THEO TỪNG EPOCH TRONG QUÁ TRÌNH TRAIN**"
      ]
    },
    {
      "cell_type": "code",
      "metadata": {
        "id": "rm_mOv71RMqD"
      },
      "source": [
        "def plt_lr(epoch_count):    \n",
        "    if epoch_count > 50:\n",
        "        epoch_count = 50\n",
        "    \n",
        "    rng = [i for i in range(epoch_count)]\n",
        "\n",
        "    plt.figure()\n",
        "    y = [lrfn(x) for x in rng]\n",
        "    plt.title(f'Learning rate schedule: {y[0]} to {y[epoch_count-1]}')\n",
        "    plt.plot(rng, y)"
      ],
      "execution_count": null,
      "outputs": []
    },
    {
      "cell_type": "code",
      "metadata": {
        "id": "zywbUYjzRM6E"
      },
      "source": [
        "def lrfn(epoch):\n",
        "  initial_lrate = 0.0001\n",
        "  drop = 0.8\n",
        "  epochs_drop = 2\n",
        "  lrate = initial_lrate * math.pow(drop, math.floor((1+epoch)/epochs_drop))\n",
        "  return lrate"
      ],
      "execution_count": null,
      "outputs": []
    },
    {
      "cell_type": "code",
      "metadata": {
        "id": "zrnpJacVRNJV",
        "colab": {
          "base_uri": "https://localhost:8080/",
          "height": 281
        },
        "outputId": "5b1342da-34db-460a-cda8-f491a4797e22"
      },
      "source": [
        "plt_lr(12)"
      ],
      "execution_count": null,
      "outputs": [
        {
          "output_type": "display_data",
          "data": {
            "image/png": "[encoded data removed]",
            "text/plain": [
              "<Figure size 432x288 with 1 Axes>"
            ]
          },
          "metadata": {
            "tags": [],
            "needs_background": "light"
          }
        }
      ]
    },
    {
      "cell_type": "markdown",
      "metadata": {
        "id": "b_-w3Oc6C3ko"
      },
      "source": [
        "**KHỞI TẠO CÁC CALLBACK TRONG QUÁ TRÌNH HỌC CỦA MODEL**\n",
        "\n",
        "\n",
        "> model_checkpoint : Lưu lại trọng số model sau mỗi epoch có val_accuracy đạt max\n",
        "\n",
        "> lr_schedule : Điều chỉnh learning_rate theo hàm lrfn đã định nghĩa ở trên\n",
        "\n",
        "\n",
        "\n"
      ]
    },
    {
      "cell_type": "code",
      "metadata": {
        "id": "P-ogFnBKRNic"
      },
      "source": [
        "model_checkpoint = ModelCheckpoint('model_checkpoint', monitor='val_accuracy',\n",
        "                                  verbose=1, save_best_only=True, model='max', save_weights_only=True)\n",
        "lr_schedule = LearningRateScheduler(lrfn, verbose=True)"
      ],
      "execution_count": null,
      "outputs": []
    },
    {
      "cell_type": "markdown",
      "metadata": {
        "id": "ejlQ_fIOC8NQ"
      },
      "source": [
        "**GỌI MODEL VÀ CHO MODEL TRAIN**"
      ]
    },
    {
      "cell_type": "code",
      "metadata": {
        "id": "BXou08mWRNy8"
      },
      "source": [
        "my_model = get_model_vgg()\n",
        "my_model.summary()"
      ],
      "execution_count": null,
      "outputs": []
    },
    {
      "cell_type": "code",
      "metadata": {
        "id": "shCT2x_uRi_d"
      },
      "source": [
        "history = my_model.fit(\n",
        "    get_training_dataset(), steps_per_epoch=STEPS_PER_EPOCH,\n",
        "    epochs=12,verbose=1, validation_data=get_validation_dataset(),validation_freq=2,\n",
        "    callbacks=[model_checkpoint, lr_schedule] \n",
        "    )"
      ],
      "execution_count": null,
      "outputs": []
    },
    {
      "cell_type": "markdown",
      "metadata": {
        "id": "yQpyG4bvC9SI"
      },
      "source": [
        "**LƯU VÀ HIỂN THỊ KẾT QUẢ SAU KHI TRAIN MODEL**"
      ]
    },
    {
      "cell_type": "code",
      "metadata": {
        "id": "HN-QCLxTRjUv"
      },
      "source": [
        "my_model.save(\"model/vgg16_21label(0-20).h5\")   #Save model 1\n",
        "#my_model.save(\"model/vgg16_21label(21-41).h5\")  #Save model 2"
      ],
      "execution_count": null,
      "outputs": []
    },
    {
      "cell_type": "code",
      "metadata": {
        "id": "7sf10c1ERjoV"
      },
      "source": [
        "plot_model_history(history, 1, 2)\n",
        "plt.savefig('vgg16_21label(0-20).png')    #Save image result model 1\n",
        "#plt.savefig('vgg16_21label(21-41).png')   #Save image result model 2"
      ],
      "execution_count": null,
      "outputs": []
    }
  ]
}
